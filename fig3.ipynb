{
 "cells": [
  {
   "cell_type": "markdown",
   "metadata": {},
   "source": [
    "### Growth factor-mediated coupling between lineage size and cell fate choice underlies robustness of mammalian development\n",
    "\n",
    "#### N. Saiz, L. Mora-Bitria, S. Rahman, H. George, J.P. Herder, J. García-Ojalvo and A.-K. Hadjantonakis\n",
    "\n",
    "#### **Figure 3**"
   ]
  },
  {
   "cell_type": "markdown",
   "metadata": {},
   "source": [
    "This code reproduces the effect of adding ESCs to the early embryo in our model of EPI-PrE cell fate choice. Running this code requires the C compiler `cc` and the utility `make`. Both are available by default in Linux, or by installing the `Xcode` development environment in Mac OS X.\n",
    "\n",
    "First, we load all necessary packages:"
   ]
  },
  {
   "cell_type": "code",
   "execution_count": 1,
   "metadata": {
    "ExecuteTime": {
     "end_time": "2019-07-31T19:29:36.002865Z",
     "start_time": "2019-07-31T19:29:35.119483Z"
    }
   },
   "outputs": [],
   "source": [
    "import numpy as np\n",
    "from IPython.display import clear_output\n",
    "import subprocess\n",
    "import matplotlib.pyplot as plt\n",
    "\n",
    "plt.rcParams['axes.labelsize'] = 20\n",
    "plt.rcParams['xtick.labelsize'] = 20\n",
    "plt.rcParams['ytick.labelsize'] = 20\n",
    "plt.rcParams['axes.titlesize'] = 20\n",
    "plt.rcParams['legend.fontsize'] = 20"
   ]
  },
  {
   "cell_type": "markdown",
   "metadata": {},
   "source": [
    "Now we compile the C code:"
   ]
  },
  {
   "cell_type": "code",
   "execution_count": 2,
   "metadata": {
    "ExecuteTime": {
     "end_time": "2019-07-31T19:29:38.306718Z",
     "start_time": "2019-07-31T19:29:37.228489Z"
    }
   },
   "outputs": [
    {
     "name": "stdout",
     "output_type": "stream",
     "text": [
      "rm *.o\n",
      "\n",
      "cc -O3 -c dran.c -o dran.o\n",
      "cc -O3 -c embryo_v2.c\n",
      "cc embryo_v2.o dran.o -o embryo_v2 -lm\n"
     ]
    }
   ],
   "source": [
    "try:\n",
    "    out = subprocess.check_output('make --file=Makefile_v2 clean', shell=True)\n",
    "    outlist = out.decode().split('\\n')\n",
    "    for outline in outlist:\n",
    "        print(outline)\n",
    "except:\n",
    "    print('make failed')\n",
    "\n",
    "p = subprocess.Popen([\"make\",\"--file=Makefile_v2\"],stdout=subprocess.PIPE,stderr=subprocess.PIPE)\n",
    "while True:\n",
    "    ln = p.stdout.readline().decode().rstrip()\n",
    "    if ln == '':\n",
    "            break\n",
    "    print(ln)\n",
    "while True:\n",
    "    ln = p.stderr.readline().decode().rstrip()\n",
    "    if ln == '':\n",
    "            break\n",
    "    print(ln)"
   ]
  },
  {
   "cell_type": "markdown",
   "metadata": {},
   "source": [
    "We now define a function `run` that generates the parameter value file and runs the C code. Some of the parameters are introduced as arguments to the function, the rest are hard-coded within it."
   ]
  },
  {
   "cell_type": "code",
   "execution_count": 3,
   "metadata": {},
   "outputs": [],
   "source": [
    "def run(nruns=10,alpha=10,Kf=1,nth=0.6,gth=0.4,n0=3,n0sd=0.5,N2add=2,t2start=40,sdt2start=0.02,\n",
    "        mt=0.01,rntd=0.01,nth2=0.9,gth2=0.1,nESC=5,Nmax=50):\n",
    "    fname = 'output/dset_v2_%i'%rngseed\n",
    "    pfile = open(fname+'.par', 'w')\n",
    "    pfile.write('%s    nruns\\n'%nruns)\n",
    "    pfile.write('1e-6    initial_mass\\n')\n",
    "    pfile.write('5.0    initial_radius\\n')\n",
    "    pfile.write('1e-6    effective_friction\\n')\n",
    "    pfile.write('1e-4    adhesion_strength\\n')\n",
    "    pfile.write('1.5    adhesion_strength_reduction_for_different_cell_types\\n')\n",
    "    pfile.write('2.0    adhesion_range\\n')\n",
    "    pfile.write('%s    alpha\\n'%alpha)\n",
    "    pfile.write('%s    Kf\\n'%Kf)\n",
    "    pfile.write('2    nh\\n')\n",
    "    pfile.write('2    mh\\n')\n",
    "    pfile.write('1.2    fd_FGF_range_factor\\n')\n",
    "    pfile.write('%s    nth_minimum_fraction_of_Nanog_max_for_EPI_allocation\\n'%nth)\n",
    "    pfile.write('%s    gth_maximum_fraction_of_Nanog_max_for_PrE_allocation\\n'%gth)\n",
    "    pfile.write('%s    nth2_maximum_Nanog_max_for_circuit_function\\n'%nth2)\n",
    "    pfile.write('%s    gth2_minimum_Nanog_max_for_circuit_function\\n'%gth2)\n",
    "    pfile.write('%s    maximum_cell_number\\n'%Nmax)\n",
    "    pfile.write('10         division_time\\n')\n",
    "    pfile.write('0.5         dispersion_in_division_time\\n')\n",
    "    pfile.write('100.0         final_time\\n')\n",
    "    pfile.write('%s          measuring_time\\n'%mt)\n",
    "    pfile.write('0.001        integration_time_step\\n')\n",
    "    pfile.write('%i          random_number_generator_seed\\n'%rngseed)   #rng seed\n",
    "    pfile.write('%s          initial_DC_Nanog\\n'%n0)\n",
    "    pfile.write('%s          initial_noise_Nanog\\n'%n0sd)\n",
    "    pfile.write('%s          division_noise\\n'%rntd)  #0.01\n",
    "    pfile.write('%s          cell_number_to_start_adding_ESCs\\n'%N2add)\n",
    "    pfile.write('%s          number_of_ESCs_to_add\\n'%nESC)\n",
    "    pfile.write('2.0         radius_of_ESCs\\n')\n",
    "    pfile.write('%s          time_to_start_biochemistry\\n'%t2start)\n",
    "    pfile.write('%s          std_time_to_start_biochemistry\\n'%sdt2start)\n",
    "    pfile.close()\n",
    "    \n",
    "    p = subprocess.Popen(['time','embryo_v2',fname],stdout=subprocess.PIPE,stderr=subprocess.PIPE)\n",
    "    while True:\n",
    "        ln = p.stdout.readline().decode().rstrip()\n",
    "        if ln == '':\n",
    "                break\n",
    "        print(ln)\n",
    "    while True:\n",
    "        ln = p.stderr.readline().decode().rstrip()\n",
    "        if ln == '':\n",
    "                break\n",
    "        print(ln)"
   ]
  },
  {
   "cell_type": "markdown",
   "metadata": {},
   "source": [
    "Next we define the plotting function:"
   ]
  },
  {
   "cell_type": "code",
   "execution_count": 4,
   "metadata": {},
   "outputs": [],
   "source": [
    "def plot_fractions_vs_time(nruns=1,title='',figname='', figtitle='',\n",
    "                           tmin=40*90/56,tmax=60*90/56):\n",
    "    tscale = 90/56\n",
    "    fname = 'output/dset_v2_%i'%rngseed\n",
    "    tvec = []\n",
    "    fdpvec = []\n",
    "    fepivec = []\n",
    "    fprevec = []\n",
    "    fescvec = []\n",
    "    fdp2vec = []\n",
    "    fepi2vec = []\n",
    "    fpre2vec = []\n",
    "    fesc2vec = []\n",
    "    Nvec = []\n",
    "    if nruns>1:\n",
    "        sddpvec = []\n",
    "        sdepivec = []\n",
    "        sdprevec = []\n",
    "        sdescvec = []\n",
    "        sdNvec = []\n",
    "    data = open(fname+'.dat', 'r')\n",
    "    for it,line in enumerate(data):\n",
    "        snap_raw = line.rstrip(' \\n').split(' ')\n",
    "        snap = np.array(list(map(float, snap_raw)))\n",
    "        tvec.append(snap[0])\n",
    "        fdpvec.append(snap[1]*100)\n",
    "        fepivec.append(snap[2]*100)\n",
    "        fprevec.append(snap[3]*100)\n",
    "        fescvec.append(snap[4]*100)\n",
    "        fdp2vec.append(snap[5]*100)\n",
    "        fepi2vec.append(snap[6]*100)\n",
    "        fpre2vec.append(snap[7]*100)\n",
    "        fesc2vec.append(snap[8]*100)\n",
    "        Nvec.append(snap[9])\n",
    "        if nruns>1:\n",
    "            sddpvec.append(np.sqrt(snap[5]-snap[1]**2)*100)\n",
    "            sdepivec.append(np.sqrt(snap[6]-snap[2]**2)*100)\n",
    "            sdprevec.append(np.sqrt(snap[7]-snap[3]**2)*100)\n",
    "            sdescvec.append(np.sqrt(snap[8]-snap[4]**2)*100)\n",
    "            sdNvec.append(np.sqrt(snap[10]-snap[9]**2))\n",
    "    plt.figure()\n",
    "    ax1 = plt.gca()\n",
    "    if title != '':\n",
    "        ax1.title(title,fontsize=15)\n",
    "    ax2 = ax1.twinx()\n",
    "    if nruns>1:\n",
    "        ax1.errorbar(np.asarray(tvec)*tscale,fdpvec,yerr=sddpvec,capsize=4,fmt='om-',label='DP')\n",
    "        ax1.errorbar(np.asarray(tvec)*tscale,fepivec,yerr=sdepivec,capsize=4,fmt='or-',label='EPI')\n",
    "        ax1.errorbar(np.asarray(tvec)*tscale,fprevec,yerr=sdprevec,capsize=4,fmt='ob-',label='PrE')\n",
    "        ax1.errorbar(np.asarray(tvec)*tscale,fescvec,yerr=sdprevec,capsize=4,fmt='o-',color=(0.84,0.99,0.37),label='ESC')\n",
    "        ax2.errorbar(np.asarray(tvec)*tscale,Nvec,yerr=sdNvec,fmt='o-',color='grey',label='all')\n",
    "    else:\n",
    "        ax1.plot(np.asarray(tvec)*tscale,fdpvec,'m-',label='DP')\n",
    "        ax1.plot(np.asarray(tvec)*tscale,fepivec,'r-',label='EPI')\n",
    "        ax1.plot(np.asarray(tvec)*tscale,fprevec,'b-',label='PrE')\n",
    "        ax1.plot(np.asarray(tvec)*tscale,fescvec,color=(0.84,0.99,0.37),label='ESC')\n",
    "        ax2.plot(np.asarray(tvec)*tscale,Nvec,'grey',label='all')\n",
    "    lines, labels = ax1.get_legend_handles_labels()\n",
    "    lines2, labels2 = ax2.get_legend_handles_labels()\n",
    "    ax1.legend(lines + lines2, labels + labels2, loc=2, fontsize=15)\n",
    "    ax1.axhline(50,color='k',linestyle='--')\n",
    "    ax1.set_xlabel('time (hpf)')\n",
    "    ax1.set_ylabel('% of ICM')\n",
    "    ax1.set_xlim([tmin,tmax])\n",
    "    ax1.set_ylim([-2,102])\n",
    "    ax2.set_ylabel('cell number', rotation=270, labelpad=20, color='grey')\n",
    "    ax2.tick_params(axis='y', colors='grey')\n",
    "    plt.title(figtitle)\n",
    "    plt.tight_layout()\n",
    "    if figname == '':\n",
    "        figname = 'single_run'\n",
    "    plt.savefig('figures/fig3g_%s.pdf'%figname)\n",
    "    plt.show()"
   ]
  },
  {
   "cell_type": "markdown",
   "metadata": {},
   "source": [
    "Using the functions defined above, now we study the response of the developing embryo to cell addition. First we run single realizations of the simulation for two different numbers of ESCs."
   ]
  },
  {
   "cell_type": "code",
   "execution_count": 5,
   "metadata": {},
   "outputs": [
    {
     "name": "stdout",
     "output_type": "stream",
     "text": [
      "        0.48 real         0.35 user         0.00 sys\n"
     ]
    },
    {
     "data": {
      "image/png": "[encoded data removed]",
      "text/plain": [
       "<Figure size 432x288 with 2 Axes>"
      ]
     },
     "metadata": {},
     "output_type": "display_data"
    }
   ],
   "source": [
    "nruns = 1\n",
    "rngseed = 1235\n",
    "\n",
    "run(nruns=nruns, alpha=10, Kf=0.9, nth=0.8, gth=0.2, n0=3,\n",
    "    n0sd=0, N2add=5, t2start=45, mt=0.5, nESC=1, Nmax=50)\n",
    "\n",
    "plot_fractions_vs_time(nruns=nruns, tmin=0,\n",
    "                       figname='1_ESC', figtitle='Morula + 1 ESC')"
   ]
  },
  {
   "cell_type": "code",
   "execution_count": 6,
   "metadata": {},
   "outputs": [
    {
     "name": "stdout",
     "output_type": "stream",
     "text": [
      "        0.33 real         0.30 user         0.00 sys\n"
     ]
    },
    {
     "data": {
      "image/png": "[encoded data removed]",
      "text/plain": [
       "<Figure size 432x288 with 2 Axes>"
      ]
     },
     "metadata": {},
     "output_type": "display_data"
    }
   ],
   "source": [
    "nruns = 1\n",
    "rngseed = 1246\n",
    "\n",
    "run(nruns=nruns, alpha=10, Kf=0.9, nth=0.8, gth=0.2, n0=3,\n",
    "    n0sd=0, N2add=5, t2start=45, mt=0.5, nESC=6, Nmax=50)\n",
    "\n",
    "plot_fractions_vs_time(nruns=nruns, tmin=0,\n",
    "                       figname='6_ESCs', figtitle='Morula + 6 ESCs')"
   ]
  },
  {
   "cell_type": "code",
   "execution_count": 7,
   "metadata": {},
   "outputs": [],
   "source": [
    "def run_scan(nruns=1,alpha=10,Kf=0.9,nth=0.8,gth=0.2,n0=3,n0sd=0,\n",
    "             N2add=5,t2start=45,sdt2start=0.02,mt=0.01,rntd=0.01,\n",
    "             nth2=0.9,gth2=0.1,nESC=5,Nmax=200,tsim=60):\n",
    "    fname = 'output/dset_v2_scan'\n",
    "    pfile = open(fname+'.par', 'w')\n",
    "    pfile.write('%s    nruns\\n'%nruns)\n",
    "    pfile.write('1e-6    initial_mass\\n')\n",
    "    pfile.write('5.0    initial_radius\\n')\n",
    "    pfile.write('1e-6    effective_friction\\n')\n",
    "    pfile.write('1e-4    adhesion_strength\\n')\n",
    "    pfile.write('1.5    adhesion_strength_reduction_for_different_cell_types\\n')\n",
    "    pfile.write('2.0    adhesion_range\\n')\n",
    "    pfile.write('%s    alpha\\n'%alpha)\n",
    "    pfile.write('%s    Kf\\n'%Kf)\n",
    "    pfile.write('2    nh\\n')\n",
    "    pfile.write('2    mh\\n')\n",
    "    pfile.write('1.2    fd_FGF_range_factor\\n')\n",
    "    pfile.write('%s    nth_minimum_fraction_of_Nanog_max_for_EPI_allocation\\n'%nth)\n",
    "    pfile.write('%s    gth_maximum_fraction_of_Nanog_max_for_PrE_allocation\\n'%gth)\n",
    "    pfile.write('%s    nth2_maximum_Nanog_max_for_circuit_function\\n'%nth2)\n",
    "    pfile.write('%s    gth2_minimum_Nanog_max_for_circuit_function\\n'%gth2)\n",
    "    pfile.write('%s    maximum_cell_number\\n'%Nmax)\n",
    "    pfile.write('10         division_time\\n')\n",
    "    pfile.write('0.5         dispersion_in_division_time\\n')\n",
    "    pfile.write('%s         final_time\\n'%tsim)\n",
    "    pfile.write('%s          measuring_time\\n'%mt)\n",
    "    pfile.write('0.001        integration_time_step\\n')\n",
    "    pfile.write('%i          random_number_generator_seed\\n'%rngseed)   #rng seed\n",
    "    pfile.write('%s          initial_DC_Nanog\\n'%n0)\n",
    "    pfile.write('%s          initial_noise_Nanog\\n'%n0sd)\n",
    "    pfile.write('%s          division_noise\\n'%rntd)  #0.01\n",
    "    pfile.write('%s          cell_number_to_start_adding_ESCs\\n'%N2add)\n",
    "    pfile.write('%s          number_of_ESCs_to_add\\n'%nESC)\n",
    "    pfile.write('2.0         radius_of_ESCs\\n')\n",
    "    pfile.write('%s          time_to_start_biochemistry\\n'%t2start)\n",
    "    pfile.write('%s          std_time_to_start_biochemistry\\n'%sdt2start)\n",
    "    pfile.close()\n",
    "\n",
    "    p = subprocess.Popen(['embryo_v2',fname],stdout=subprocess.PIPE,\n",
    "                         stderr=subprocess.PIPE)\n",
    "    while True:\n",
    "        ln = p.stdout.readline().decode().rstrip()\n",
    "        if ln == '':\n",
    "                break\n",
    "        print(ln)\n",
    "    while True:\n",
    "        ln = p.stderr.readline().decode().rstrip()\n",
    "        if ln == '':\n",
    "                break\n",
    "        print(ln)\n",
    "\n",
    "    data = open(fname+'.dat', 'r')\n",
    "    for it,line in enumerate(data):\n",
    "        snap_raw = line.rstrip(' \\n').split(' ')\n",
    "        snap = np.array(list(map(float, snap_raw)))\n",
    "    fdp = snap[1]*100\n",
    "    fepi = snap[2]*100\n",
    "    fpre = snap[3]*100\n",
    "    fesc = snap[4]*100\n",
    "    N = snap[9]\n",
    "        \n",
    "    return [N,fdp,fepi,fpre,fesc]"
   ]
  },
  {
   "cell_type": "code",
   "execution_count": 8,
   "metadata": {},
   "outputs": [
    {
     "name": "stdout",
     "output_type": "stream",
     "text": [
      "number of added ESCs = 1\n",
      "number of added ESCs = 2\n",
      "number of added ESCs = 3\n",
      "number of added ESCs = 4\n",
      "number of added ESCs = 5\n",
      "number of added ESCs = 6\n",
      "number of added ESCs = 7\n",
      "number of added ESCs = 8\n",
      "-> run 20/20\r"
     ]
    }
   ],
   "source": [
    "Nvec = []\n",
    "fdpvec = []\n",
    "fepivec = []\n",
    "fprevec = []\n",
    "fescvec = []\n",
    "nescini = []\n",
    "tmax = 118*56/90\n",
    "for i in range(8):\n",
    "    nESC = i+1\n",
    "    print('number of added ESCs =',nESC)\n",
    "    for j in range(20):\n",
    "        print('-> run %i/20'%(j+1), end='\\r', flush=True)\n",
    "        rngseed = 111*i+j\n",
    "        [N,fdp,fepi,fpre,fesc] = run_scan(nESC=nESC,Nmax=200,tsim=tmax)\n",
    "        Nvec.append(N)\n",
    "        fdpvec.append(fdp)\n",
    "        fepivec.append(fepi)\n",
    "        fprevec.append(fpre)\n",
    "        fescvec.append(fesc)\n",
    "        nescini.append(nESC)"
   ]
  },
  {
   "cell_type": "code",
   "execution_count": 9,
   "metadata": {},
   "outputs": [
    {
     "data": {
      "image/png": "[encoded data removed]",
      "text/plain": [
       "<Figure size 864x360 with 1 Axes>"
      ]
     },
     "metadata": {
      "needs_background": "light"
     },
     "output_type": "display_data"
    }
   ],
   "source": [
    "nescvec = np.asarray(fescvec)*np.asarray(Nvec)\n",
    "inds = np.argsort(nescvec)\n",
    "\n",
    "sortednesc = np.zeros_like(nescvec)\n",
    "sortedfdp = np.zeros_like(fdpvec)\n",
    "sortedfepi = np.zeros_like(fepivec)\n",
    "sortedfpre = np.zeros_like(fprevec)\n",
    "sortedfesc = np.zeros_like(fescvec)\n",
    "for i,ind in enumerate(inds):\n",
    "    sortednesc[i] = nescvec[ind]\n",
    "    sortedfdp[i] = fdpvec[ind]\n",
    "    sortedfepi[i] = fepivec[ind]\n",
    "    sortedfpre[i] = fprevec[ind]\n",
    "    sortedfesc[i] = fescvec[ind]\n",
    "\n",
    "width = 1\n",
    "plt.figure(figsize=(12,5))\n",
    "p1 = plt.bar(range(len(nescvec)),sortedfesc,\n",
    "             width, color=(0.84,0.99,0.37),\n",
    "             edgecolor='white', linewidth=0.1)\n",
    "p2 = plt.bar(range(len(nescvec)),sortedfepi,\n",
    "             width, bottom=sortedfesc, color='#e5331a',\n",
    "             edgecolor='white', linewidth=0.1) \n",
    "p4 = plt.bar(range(len(nescvec)), sortedfpre, width,\n",
    "             bottom=sortedfesc+sortedfepi+sortedfdp, color='#1a33e5',\n",
    "             edgecolor='white', linewidth=0.1)\n",
    "plt.xlabel('Embryo (by final number of ESCs)')\n",
    "plt.ylabel('% of ICM')\n",
    "plt.ylim([0,100])\n",
    "plt.xlim(-0.5,159.5)\n",
    "#plt.title('100% EPI ablation')\n",
    "plt.legend((p1[0], p2[0], p4[0]), ('ESC','EPI','PrE'),bbox_to_anchor=(1, 0.6))\n",
    "plt.tight_layout()\n",
    "plt.savefig('figures/fig3h_scan.pdf')\n",
    "plt.show()"
   ]
  },
  {
   "cell_type": "code",
   "execution_count": null,
   "metadata": {},
   "outputs": [],
   "source": []
  }
 ],
 "metadata": {
  "hide_input": false,
  "kernelspec": {
   "display_name": "Python 3",
   "language": "python",
   "name": "python3"
  },
  "language_info": {
   "codemirror_mode": {
    "name": "ipython",
    "version": 3
   },
   "file_extension": ".py",
   "mimetype": "text/x-python",
   "name": "python",
   "nbconvert_exporter": "python",
   "pygments_lexer": "ipython3",
   "version": "3.7.4"
  },
  "toc": {
   "base_numbering": 1,
   "nav_menu": {},
   "number_sections": true,
   "sideBar": true,
   "skip_h1_title": false,
   "title_cell": "Table of Contents",
   "title_sidebar": "Contents",
   "toc_cell": false,
   "toc_position": {},
   "toc_section_display": true,
   "toc_window_display": false
  },
  "varInspector": {
   "cols": {
    "lenName": 16,
    "lenType": 16,
    "lenVar": 40
   },
   "kernels_config": {
    "python": {
     "delete_cmd_postfix": "",
     "delete_cmd_prefix": "del ",
     "library": "var_list.py",
     "varRefreshCmd": "print(var_dic_list())"
    },
    "r": {
     "delete_cmd_postfix": ") ",
     "delete_cmd_prefix": "rm(",
     "library": "var_list.r",
     "varRefreshCmd": "cat(var_dic_list()) "
    }
   },
   "types_to_exclude": [
    "module",
    "function",
    "builtin_function_or_method",
    "instance",
    "_Feature"
   ],
   "window_display": false
  }
 },
 "nbformat": 4,
 "nbformat_minor": 4
}
